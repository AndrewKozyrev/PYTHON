{
 "cells": [
  {
   "cell_type": "code",
   "execution_count": 1,
   "metadata": {},
   "outputs": [],
   "source": [
    "def rotor1(num=0):\n",
    "    l_port = [1, 2, 3, 4]\n",
    "    \n",
    "    while num > 0:\n",
    "        ##### rotating a rotor\n",
    "        temp = l_port.pop(0)\n",
    "        l_port.append(temp)\n",
    "        #####\n",
    "        num -= 1\n",
    "    \n",
    "    l = {'A': l_port[0], 'B': l_port[1], 'C': l_port[2], 'D': l_port[3]}     ## mapping letter --> port\n",
    "    r = ['A', 'B', 'C', 'D']      ## right port\n",
    "    \n",
    "    ##### mapping left port ---> right port \n",
    "    d = {1: l_port.index(1), 2: (l_port.index(2) + 2) % 4, 3: l_port.index(3) - 1, 4: l_port.index(4) - 1}\n",
    "    #####\n",
    "    \n",
    "    rotor = {'A': r[d[l['A']]], 'B': r[d[l['B']]], 'C': r[d[l['C']]], 'D': r[d[l['D']]]}\n",
    "    return rotor"
   ]
  },
  {
   "cell_type": "code",
   "execution_count": 110,
   "metadata": {},
   "outputs": [
    {
     "data": {
      "text/plain": [
       "{'A': 'A', 'B': 'D', 'C': 'B', 'D': 'C'}"
      ]
     },
     "execution_count": 110,
     "metadata": {},
     "output_type": "execute_result"
    }
   ],
   "source": [
    "rotor1(0)"
   ]
  },
  {
   "cell_type": "code",
   "execution_count": 2,
   "metadata": {},
   "outputs": [],
   "source": [
    "def rotor2(num=0):\n",
    "    l_port = [1, 2, 3, 4]\n",
    "    \n",
    "    while num > 0:\n",
    "        ##### rotating a rotor\n",
    "        temp = l_port.pop(0)\n",
    "        l_port.append(temp)\n",
    "        #####\n",
    "        num -= 1\n",
    "    \n",
    "    l = {'A': l_port[0], 'B': l_port[1], 'C': l_port[2], 'D': l_port[3]}     ## mapping letter --> port\n",
    "    r = ['A', 'B', 'C', 'D']      ## right port\n",
    "    \n",
    "    ##### mapping left port ---> right port \n",
    "    d = {1: l_port.index(1), 2: (l_port.index(2) + 1) % 4, 3: l_port.index(3) - 1, 4: l_port.index(4)}\n",
    "    #####\n",
    "    \n",
    "    rotor = {'A': r[d[l['A']]], 'B': r[d[l['B']]], 'C': r[d[l['C']]], 'D': r[d[l['D']]]}    \n",
    "    return rotor"
   ]
  },
  {
   "cell_type": "code",
   "execution_count": 7,
   "metadata": {},
   "outputs": [],
   "source": [
    "def reflector():\n",
    "    reflector = {'A': 'D', 'B': 'C', 'C': 'B', 'D': 'A'}\n",
    "    return reflector"
   ]
  },
  {
   "cell_type": "code",
   "execution_count": 136,
   "metadata": {},
   "outputs": [
    {
     "data": {
      "text/plain": [
       "{'A': 'A', 'B': 'D', 'C': 'C', 'D': 'B'}"
      ]
     },
     "execution_count": 136,
     "metadata": {},
     "output_type": "execute_result"
    }
   ],
   "source": [
    "joinRotors()"
   ]
  },
  {
   "cell_type": "code",
   "execution_count": 140,
   "metadata": {},
   "outputs": [],
   "source": []
  },
  {
   "cell_type": "code",
   "execution_count": 3,
   "metadata": {},
   "outputs": [],
   "source": [
    "def joinRotors(x=0, y=0):\n",
    "    first = rotor1(x)\n",
    "    second = rotor2(y)\n",
    "    r = reflector()\n",
    "    \n",
    "    joined = {'A': get_key(first, get_key(second, r[ second[first['A']] ]) ),  \\\n",
    "              'B': get_key(first, get_key(second, r[ second[first['B']] ]) ), \\\n",
    "              'C': get_key(first, get_key(second, r[ second[first['C']] ]) ), \\\n",
    "              'D': get_key(first, get_key(second, r[ second[first['D']] ]) )}\n",
    "    \n",
    "    return joined"
   ]
  },
  {
   "cell_type": "code",
   "execution_count": null,
   "metadata": {},
   "outputs": [],
   "source": []
  },
  {
   "cell_type": "code",
   "execution_count": null,
   "metadata": {},
   "outputs": [],
   "source": []
  },
  {
   "cell_type": "code",
   "execution_count": 5,
   "metadata": {},
   "outputs": [],
   "source": [
    "def get_key(dictionary, value):\n",
    "    key = (list(dictionary.keys())[list(dictionary.values()).index(value)])\n",
    "    return key"
   ]
  },
  {
   "cell_type": "code",
   "execution_count": 201,
   "metadata": {},
   "outputs": [
    {
     "data": {
      "text/plain": [
       "{'A': 'B', 'B': 'A', 'C': 'D', 'D': 'C'}"
      ]
     },
     "execution_count": 201,
     "metadata": {},
     "output_type": "execute_result"
    }
   ],
   "source": [
    "joinRotors()"
   ]
  },
  {
   "cell_type": "code",
   "execution_count": 4,
   "metadata": {},
   "outputs": [],
   "source": [
    "def driver(word, k):\n",
    "    y = k // 4\n",
    "    cypher = []\n",
    "    for i in range(0, len(word)):\n",
    "        enigma = joinRotors(i+k, y)\n",
    "        cypher.append(enigma[word[i]])\n",
    "        if (i + k + 1) % 4 == 0:\n",
    "            y += 1\n",
    "    return ''.join(cypher)"
   ]
  },
  {
   "cell_type": "code",
   "execution_count": 9,
   "metadata": {},
   "outputs": [
    {
     "data": {
      "text/plain": [
       "'DBBDAD'"
      ]
     },
     "execution_count": 9,
     "metadata": {},
     "output_type": "execute_result"
    }
   ],
   "source": [
    "driver('AAABBB', 14)"
   ]
  }
 ],
 "metadata": {
  "kernelspec": {
   "display_name": "Python 3",
   "language": "python",
   "name": "python3"
  },
  "language_info": {
   "codemirror_mode": {
    "name": "ipython",
    "version": 3
   },
   "file_extension": ".py",
   "mimetype": "text/x-python",
   "name": "python",
   "nbconvert_exporter": "python",
   "pygments_lexer": "ipython3",
   "version": "3.7.4"
  }
 },
 "nbformat": 4,
 "nbformat_minor": 2
}
