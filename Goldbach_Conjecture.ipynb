{
 "cells": [
  {
   "cell_type": "code",
   "execution_count": 24,
   "metadata": {},
   "outputs": [
    {
     "name": "stdout",
     "output_type": "stream",
     "text": [
      "22\n"
     ]
    },
    {
     "data": {
      "text/plain": [
       "(3, [(3, 19), (5, 17), (11, 11)])"
      ]
     },
     "execution_count": 24,
     "metadata": {},
     "output_type": "execute_result"
    }
   ],
   "source": [
    "import math\n",
    "number = int(input())\n",
    "\n",
    "def isPrime( k ):\n",
    "    if k % 2 == 0:\n",
    "        return False\n",
    "    for x in range(3, math.ceil(math.sqrt(k)) + 1, 2):\n",
    "        if k % x == 0:\n",
    "            return False\n",
    "    return True\n",
    "\n",
    "def sumOfTwoPrimes( n ):\n",
    "    primes = []\n",
    "    sums = []\n",
    "    count = 0\n",
    "    for i in range(3, n, 2):\n",
    "        if isPrime( i ):\n",
    "            primes.append( i )\n",
    "    for u in range(len(primes)):\n",
    "        for v in range(u ,len(primes)):\n",
    "            if n == primes[u] + primes[v]:\n",
    "                count += 1\n",
    "                sums.append((primes[u], primes[v]))\n",
    "    return count, sums\n",
    "    \n",
    "    \n",
    "sumOfTwoPrimes( number )"
   ]
  },
  {
   "cell_type": "code",
   "execution_count": null,
   "metadata": {},
   "outputs": [],
   "source": []
  }
 ],
 "metadata": {
  "kernelspec": {
   "display_name": "Python 3",
   "language": "python",
   "name": "python3"
  },
  "language_info": {
   "codemirror_mode": {
    "name": "ipython",
    "version": 3
   },
   "file_extension": ".py",
   "mimetype": "text/x-python",
   "name": "python",
   "nbconvert_exporter": "python",
   "pygments_lexer": "ipython3",
   "version": "3.7.3"
  }
 },
 "nbformat": 4,
 "nbformat_minor": 2
}
