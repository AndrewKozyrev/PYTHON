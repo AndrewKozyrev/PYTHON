{
 "cells": [
  {
   "cell_type": "code",
   "execution_count": null,
   "metadata": {},
   "outputs": [],
   "source": [
    "n = int(input())\n",
    "points = list( map( int, (input().split(' '))  ) )"
   ]
  },
  {
   "cell_type": "code",
   "execution_count": null,
   "metadata": {},
   "outputs": [],
   "source": []
  },
  {
   "cell_type": "code",
   "execution_count": null,
   "metadata": {},
   "outputs": [],
   "source": []
  },
  {
   "cell_type": "code",
   "execution_count": null,
   "metadata": {},
   "outputs": [],
   "source": []
  },
  {
   "cell_type": "code",
   "execution_count": 29,
   "metadata": {},
   "outputs": [
    {
     "name": "stdout",
     "output_type": "stream",
     "text": [
      "Problem:\n",
      "MINIMIZE\n",
      "1*x1 + 1*x10 + 1*x2 + 1*x3 + 1*x4 + 1*x5 + 1*x6 + 1*x7 + 1*x8 + 1*x9 + 0\n",
      "SUBJECT TO\n",
      "_C1: 33 x1 + 3 x2 = 401\n",
      "\n",
      "VARIABLES\n",
      "0 <= x1 Integer\n",
      "0 <= x10 Integer\n",
      "0 <= x2 Integer\n",
      "0 <= x3 Integer\n",
      "0 <= x4 Integer\n",
      "0 <= x5 Integer\n",
      "0 <= x6 Integer\n",
      "0 <= x7 Integer\n",
      "0 <= x8 Integer\n",
      "0 <= x9 Integer\n",
      "\n",
      "Undefined\n",
      "12.151515 0.0 0.0 0.0 0.0 0.0 0.0 0.0 12.151515\n",
      "33*x1 + 3*x2\n"
     ]
    }
   ],
   "source": [
    "import math\n",
    "import pulp as p\n",
    "\n",
    "\n",
    "def integerMoves(**kwargs):\n",
    "    # Create a LP Minimization problem \n",
    "    Lp_prob = p.LpProblem('Problem', p.LpMinimize) \n",
    "\n",
    "    # Create problem Variables \n",
    "    x1 = p.LpVariable(\"x1\", lowBound = 0, upBound = None, cat='Integer') # Create a variable x1 >= 0 \n",
    "    x2 = p.LpVariable(\"x2\", lowBound = 0, upBound = None, cat='Integer') # Create a variable x2 >= 0 \n",
    "    x3 = p.LpVariable(\"x3\", lowBound = 0, upBound = None, cat='Integer') # Create a variable x3 >= 0 \n",
    "    x4 = p.LpVariable(\"x4\", lowBound = 0, upBound = None, cat='Integer') # Create a variable x4 >= 0 \n",
    "    x5 = p.LpVariable(\"x5\", lowBound = 0, upBound = None, cat='Integer') # Create a variable x5 >= 0 \n",
    "    x6 = p.LpVariable(\"x6\", lowBound = 0, upBound = None, cat='Integer') # Create a variable x6 >= 0 \n",
    "    x7 = p.LpVariable(\"x7\", lowBound = 0, upBound = None, cat='Integer') # Create a variable x7 >= 0 \n",
    "    x8 = p.LpVariable(\"x8\", lowBound = 0, upBound = None, cat='Integer') # Create a variable x8 >= 0 \n",
    "    x9 = p.LpVariable(\"x9\", lowBound = 0, upBound = None, cat='Integer') # Create a variable x8 >= 0 \n",
    "    x10 = p.LpVariable(\"x10\", lowBound = 0, upBound = None, cat='Integer') # Create a variable x8 >= 0 \n",
    "\n",
    "\n",
    "    # Objective Function \n",
    "    Lp_prob +=  x1+x2+x3+x4+x5+x6+x7+x8+x9+x10\n",
    "\n",
    "    # Constraints: \n",
    "    Lp_prob += kwargs['v1'] * x1 + kwargs['v2'] * x2  == kwargs['d']\n",
    "\n",
    "\n",
    "    # Display the problem \n",
    "    print(Lp_prob) \n",
    "\n",
    "    status = Lp_prob.solve() # Solver \n",
    "    print(p.LpStatus[status]) # The solution status \n",
    "    # Printing the final solution \n",
    "    print(p.value(x1), p.value(x2), p.value(x3), p.value(x4), p.value(x5), \\\n",
    "          p.value(x6), p.value(x7), p.value(x8), p.value(Lp_prob.objective)) \n",
    "    print(x1*kwargs['v1'] + x2*kwargs['v2'])\n",
    "        \n",
    "        \n",
    "integerMoves(d=401, v1=33, v2=3,)\n"
   ]
  },
  {
   "cell_type": "markdown",
   "metadata": {},
   "source": [
    "##### "
   ]
  },
  {
   "cell_type": "code",
   "execution_count": 30,
   "metadata": {},
   "outputs": [
    {
     "data": {
      "text/plain": [
       "400.999995"
      ]
     },
     "execution_count": 30,
     "metadata": {},
     "output_type": "execute_result"
    }
   ],
   "source": []
  }
 ],
 "metadata": {
  "kernelspec": {
   "display_name": "Python 3",
   "language": "python",
   "name": "python3"
  },
  "language_info": {
   "codemirror_mode": {
    "name": "ipython",
    "version": 3
   },
   "file_extension": ".py",
   "mimetype": "text/x-python",
   "name": "python",
   "nbconvert_exporter": "python",
   "pygments_lexer": "ipython3",
   "version": "3.7.3"
  }
 },
 "nbformat": 4,
 "nbformat_minor": 2
}
