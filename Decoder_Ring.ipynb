{
 "cells": [
  {
   "cell_type": "code",
   "execution_count": 21,
   "metadata": {},
   "outputs": [],
   "source": [
    "import string\n",
    "n = 5\n",
    "temp_alphabet = string.ascii_uppercase[:28]\n",
    "alphabet = list(temp_alphabet)\n",
    "cypher = []\n",
    "dial2 = []\n",
    "next_index = (n-1) % (len(alphabet)-1)\n",
    "\n",
    "while len(alphabet) > 0:\n",
    "    dial2.append(alphabet[next_index])\n",
    "    alphabet.pop(next_index)\n",
    "    if alphabet:\n",
    "        next_index = (next_index + n) % len(alphabet)-1\n",
    "\n",
    "alphabet = list(temp_alphabet)\n",
    "w = \"ABCDEF\"    \n",
    "w = list(w)\n",
    "position_w = [alphabet.index(k) for k in w]\n",
    "\n",
    "for x in position_w:\n",
    "    cypher.append(dial2[x])\n",
    "    front = dial2.pop(0)\n",
    "    dial2.append(front)"
   ]
  },
  {
   "cell_type": "code",
   "execution_count": 23,
   "metadata": {},
   "outputs": [
    {
     "data": {
      "text/plain": [
       "['A',\n",
       " 'B',\n",
       " 'C',\n",
       " 'D',\n",
       " 'E',\n",
       " 'F',\n",
       " 'G',\n",
       " 'H',\n",
       " 'I',\n",
       " 'J',\n",
       " 'K',\n",
       " 'L',\n",
       " 'M',\n",
       " 'N',\n",
       " 'O',\n",
       " 'P',\n",
       " 'Q',\n",
       " 'R',\n",
       " 'S',\n",
       " 'T',\n",
       " 'U',\n",
       " 'V',\n",
       " 'W',\n",
       " 'X',\n",
       " 'Y',\n",
       " 'Z']"
      ]
     },
     "execution_count": 23,
     "metadata": {},
     "output_type": "execute_result"
    }
   ],
   "source": [
    "alphabet"
   ]
  },
  {
   "cell_type": "code",
   "execution_count": 28,
   "metadata": {},
   "outputs": [
    {
     "data": {
      "text/plain": [
       "['K', 'Q', 'W', 'C', 'L', 'S']"
      ]
     },
     "execution_count": 28,
     "metadata": {},
     "output_type": "execute_result"
    }
   ],
   "source": [
    "dial2[0:6:1]"
   ]
  },
  {
   "cell_type": "code",
   "execution_count": 19,
   "metadata": {},
   "outputs": [
    {
     "data": {
      "text/plain": [
       "'5ABCD'"
      ]
     },
     "execution_count": 19,
     "metadata": {},
     "output_type": "execute_result"
    }
   ],
   "source": [
    "b.join(a)"
   ]
  },
  {
   "cell_type": "code",
   "execution_count": null,
   "metadata": {},
   "outputs": [],
   "source": []
  }
 ],
 "metadata": {
  "kernelspec": {
   "display_name": "Python 3",
   "language": "python",
   "name": "python3"
  }
 },
 "nbformat": 4,
 "nbformat_minor": 2
}
