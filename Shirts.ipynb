{
 "cells": [
  {
   "cell_type": "code",
   "execution_count": 265,
   "metadata": {},
   "outputs": [
    {
     "name": "stdout",
     "output_type": "stream",
     "text": [
      "3452671\n",
      "[[3, 1, 3, 2, 3], [3, 2, 3], [3, 2, 3], [3, 4, 2, 2, 3], [3, 3, 1, 2, 3], [3, 2, 2, 4, 3], [3, 2, 4, 2, 3], [3, 2, 3], [3, 2, 3], [3, 4, 4, 4, 3], [1, 1, 1, 2, 3], [4, 2, 3, 2, 3], [3, 2, 3], [3, 2, 3], [3, 2, 3], [3, 2, 3], [3, 2, 3], [2, 4, 3, 2, 3], [3, 2, 3], [3, 2, 3], [3, 2, 3], [3, 2, 3], [1, 3, 3, 2, 3], [3, 2, 1, 3, 3], [3, 2, 3], [3, 2, 3], [3, 2, 3], [3, 2, 1, 1, 1]]\n"
     ]
    },
    {
     "data": {
      "text/plain": [
       "3"
      ]
     },
     "execution_count": 265,
     "metadata": {},
     "output_type": "execute_result"
    }
   ],
   "source": [
    "import itertools as i\n",
    "import random as r\n",
    "\n",
    "shirts = list(map(int, list(input())))\n",
    "\n",
    "op1 = lambda s: [s[1],s[2],s[3],s[0],s[4],s[5],s[6]]\n",
    "op2 = lambda s: [s[0], s[1], s[2], s[6], s[3], s[4], s[5]]\n",
    "op3 = lambda s: [s[3],s[0],s[1],s[2],s[4],s[5],s[6]]\n",
    "op4 = lambda s: [s[0], s[1], s[2], s[4], s[5], s[6], s[3]]\n",
    "\n",
    "#mininum_number = check( check(a1*op1(s)) + check(a2*op2(s)) #+ \\\n",
    "#check(a3*op3(s)) + check(a4*op4(s)) )\n",
    "\n",
    "check = lambda s: s == [1, 2, 3, 4, 5, 6, 7]\n",
    "\n",
    "N = 5\n",
    "s = shirts\n",
    "orderlist = list(i.product([1, 2, 3, 4], repeat=N))\n",
    "permanent = []\n",
    "while len(orderlist) > 0:\n",
    "    k = r.randint(0, len(orderlist)-1)\n",
    "    x = orderlist.pop(k)\n",
    "    s = shirts\n",
    "    temp = []\n",
    "    for e in x:\n",
    "        command = \"op\" + str(e) + \"(s)\"\n",
    "        exec(\"s = \" + command)\n",
    "        temp.append(e)\n",
    "        if check(s):\n",
    "            permanent.append(temp)\n",
    "            break\n",
    "print(permanent)\n",
    "min(list(map(len, permanent)))"
   ]
  },
  {
   "cell_type": "code",
   "execution_count": null,
   "metadata": {},
   "outputs": [],
   "source": []
  },
  {
   "cell_type": "code",
   "execution_count": null,
   "metadata": {},
   "outputs": [],
   "source": []
  },
  {
   "cell_type": "code",
   "execution_count": null,
   "metadata": {},
   "outputs": [],
   "source": []
  },
  {
   "cell_type": "code",
   "execution_count": null,
   "metadata": {},
   "outputs": [],
   "source": []
  }
 ],
 "metadata": {
  "kernelspec": {
   "display_name": "Python 3",
   "language": "python",
   "name": "python3"
  },
  "language_info": {
   "codemirror_mode": {
    "name": "ipython",
    "version": 3
   },
   "file_extension": ".py",
   "mimetype": "text/x-python",
   "name": "python",
   "nbconvert_exporter": "python",
   "pygments_lexer": "ipython3",
   "version": "3.7.3"
  }
 },
 "nbformat": 4,
 "nbformat_minor": 2
}
