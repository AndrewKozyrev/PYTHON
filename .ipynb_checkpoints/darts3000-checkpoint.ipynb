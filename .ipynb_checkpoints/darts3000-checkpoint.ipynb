{
 "cells": [
  {
   "cell_type": "code",
   "execution_count": 66,
   "metadata": {},
   "outputs": [
    {
     "name": "stdout",
     "output_type": "stream",
     "text": [
      "3\n",
      "8 2\n",
      "1 2 3 4 5 6 7 8\n",
      "3 -1\n",
      "0 -1 -2\n",
      "5 4\n",
      "-1 2 3 4 5\n",
      "33\n",
      "0\n",
      "9\n"
     ]
    }
   ],
   "source": [
    "x = int(input())\n",
    "def maxSum(arg):\n",
    "    maxsofar = maxendinghere = 0\n",
    "    i = 0\n",
    "    partitions = {}\n",
    "    for (idx, x) in enumerate(arg):\n",
    "        maxendinghere = max(maxendinghere + x, 0)\n",
    "        partitions[maxendinghere] = str(i) + ' ' + str(idx)\n",
    "        if maxendinghere == 0:\n",
    "            i = idx + 1\n",
    "        maxsofar = max(maxsofar, maxendinghere)\n",
    "    return maxsofar, partitions\n",
    "\n",
    "def anchoredSum(subchain):\n",
    "    parts = []\n",
    "    maxsofar = p1 = 0\n",
    "    for x in subchain:\n",
    "        p1 = p1 + x\n",
    "        maxsofar = max(maxsofar, p1)\n",
    "    parts.append(maxsofar)\n",
    "    subchain.reverse()\n",
    "    maxsofar = p2 = 0\n",
    "    for x in subchain:\n",
    "        p2 = p2 + x\n",
    "        maxsofar = max(maxsofar, p2)\n",
    "    parts.append(maxsofar)\n",
    "    return max(parts)\n",
    "\n",
    "def maxScore(arg1, arg2):\n",
    "    N, black = list(map(int, arg1.split()))\n",
    "    sectors = list(map(int, arg2.split()))\n",
    "    chain = []\n",
    "    if black == -1:\n",
    "        chain = sectors\n",
    "    else:\n",
    "        chain = sectors[black+1::] + sectors[0:black:]\n",
    "    m1, partitions = maxSum(chain)\n",
    "    i, j = list(map(int, list(partitions[m1].split())))\n",
    "    subchain = chain[j+1:] + chain[:i]\n",
    "    m2 = anchoredSum(subchain)\n",
    "    return m1 + m2\n",
    "\n",
    "output = []\n",
    "for i in range(x):\n",
    "    temp1 = input()\n",
    "    temp2 = input()\n",
    "    reply = maxScore(temp1, temp2)\n",
    "    output.append(reply)\n",
    "for line in output:\n",
    "    print(line)"
   ]
  },
  {
   "cell_type": "code",
   "execution_count": null,
   "metadata": {},
   "outputs": [],
   "source": [
    "chain"
   ]
  },
  {
   "cell_type": "code",
   "execution_count": null,
   "metadata": {},
   "outputs": [],
   "source": []
  },
  {
   "cell_type": "code",
   "execution_count": null,
   "metadata": {},
   "outputs": [],
   "source": []
  },
  {
   "cell_type": "code",
   "execution_count": null,
   "metadata": {},
   "outputs": [],
   "source": []
  },
  {
   "cell_type": "code",
   "execution_count": null,
   "metadata": {},
   "outputs": [],
   "source": []
  },
  {
   "cell_type": "code",
   "execution_count": null,
   "metadata": {},
   "outputs": [],
   "source": []
  },
  {
   "cell_type": "code",
   "execution_count": null,
   "metadata": {},
   "outputs": [],
   "source": []
  },
  {
   "cell_type": "code",
   "execution_count": null,
   "metadata": {},
   "outputs": [],
   "source": []
  },
  {
   "cell_type": "code",
   "execution_count": null,
   "metadata": {},
   "outputs": [],
   "source": []
  }
 ],
 "metadata": {
  "kernelspec": {
   "display_name": "Python 3",
   "language": "python",
   "name": "python3"
  },
  "language_info": {
   "codemirror_mode": {
    "name": "ipython",
    "version": 3
   },
   "file_extension": ".py",
   "mimetype": "text/x-python",
   "name": "python",
   "nbconvert_exporter": "python",
   "pygments_lexer": "ipython3",
   "version": "3.7.4"
  }
 },
 "nbformat": 4,
 "nbformat_minor": 2
}
