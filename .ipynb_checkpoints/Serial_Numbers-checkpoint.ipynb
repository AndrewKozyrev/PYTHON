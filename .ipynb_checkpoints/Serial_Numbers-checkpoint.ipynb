{
 "cells": [
  {
   "cell_type": "code",
   "execution_count": 52,
   "metadata": {},
   "outputs": [
    {
     "name": "stdout",
     "output_type": "stream",
     "text": [
      "Entering function:\n",
      "Original number is: [4, 6, 1, 2, 3, 5]\n",
      "The number is: [4, 6, 1, 2, 3, 5]\n",
      "working with neighbours (4, 6)\n",
      "Looking at adjacent pair (9, 1)\n",
      "Switching to position in 1\n",
      "The number is: [4, 6, 1, 2, 3, 5]\n",
      "working with neighbours (6, 1)\n",
      "Looking at adjacent pair (4, 2)\n",
      "\tCurrent list: [461235, 416235]\n",
      "distance: 1\n",
      "Entering function:\n",
      "Original number is: [4, 1, 6, 2, 3, 5]\n",
      "The number is: [4, 1, 6, 2, 3, 5]\n",
      "working with neighbours (4, 1)\n",
      "Looking at adjacent pair (9, 6)\n",
      "Switching to position in 1\n",
      "The number is: [4, 1, 6, 2, 3, 5]\n",
      "working with neighbours (1, 6)\n",
      "Looking at adjacent pair (4, 2)\n",
      "Resulting number 461235 is already in list\n",
      "Switching to position in 2\n",
      "The number is: [4, 1, 6, 2, 3, 5]\n",
      "working with neighbours (6, 2)\n",
      "Looking at adjacent pair (1, 3)\n",
      "\tCurrent list: [461235, 416235, 412635]\n",
      "distance: 2\n",
      "Entering function:\n",
      "Original number is: [4, 1, 2, 6, 3, 5]\n",
      "The number is: [4, 1, 2, 6, 3, 5]\n",
      "working with neighbours (4, 1)\n",
      "Looking at adjacent pair (9, 2)\n",
      "\tCurrent list: [461235, 416235, 412635, 142635]\n",
      "distance: 3\n",
      "Entering function:\n",
      "Original number is: [1, 4, 2, 6, 3, 5]\n",
      "The number is: [1, 4, 2, 6, 3, 5]\n",
      "working with neighbours (1, 4)\n",
      "Looking at adjacent pair (9, 2)\n",
      "Resulting number 412635 is already in list\n",
      "Switching to position in 1\n",
      "The number is: [1, 4, 2, 6, 3, 5]\n",
      "working with neighbours (4, 2)\n",
      "Looking at adjacent pair (1, 6)\n",
      "Switching to position in 2\n",
      "The number is: [1, 4, 2, 6, 3, 5]\n",
      "working with neighbours (2, 6)\n",
      "Looking at adjacent pair (4, 3)\n",
      "\tCurrent list: [461235, 416235, 412635, 142635, 146235]\n",
      "distance: 4\n",
      "Entering function:\n",
      "Original number is: [1, 4, 6, 2, 3, 5]\n",
      "The number is: [1, 4, 6, 2, 3, 5]\n",
      "working with neighbours (1, 4)\n",
      "Looking at adjacent pair (9, 6)\n",
      "Switching to position in 1\n",
      "The number is: [1, 4, 6, 2, 3, 5]\n",
      "working with neighbours (4, 6)\n",
      "Looking at adjacent pair (1, 2)\n",
      "Switching to position in 2\n",
      "The number is: [1, 4, 6, 2, 3, 5]\n",
      "working with neighbours (6, 2)\n",
      "Looking at adjacent pair (4, 3)\n",
      "Resulting number 142635 is already in list\n",
      "Switching to position in 3\n",
      "The number is: [1, 4, 6, 2, 3, 5]\n",
      "working with neighbours (2, 3)\n",
      "Looking at adjacent pair (6, 5)\n",
      "Switching to position in 4\n",
      "The number is: [1, 4, 6, 2, 3, 5]\n",
      "working with neighbours (3, 5)\n",
      "Looking at adjacent pair (2, 9)\n",
      "Switching to position in 5\n",
      "\t\tExiting function\n",
      "\n",
      "\n"
     ]
    }
   ],
   "source": [
    "def list_to_int(digits):\n",
    "    \n",
    "    # Converting integer list to string list \n",
    "    # and joining the list using join()\n",
    "    res = int(\"\".join(map(str, digits)))\n",
    "    \n",
    "    return res\n",
    "\n",
    "def int_to_list(number):\n",
    "    res = [int(i) for i in str(number)]\n",
    "    \n",
    "    return res\n",
    "\n",
    "\n",
    "# Initialization of variables\n",
    "digits_count = 6     # given: number of digits in our number\n",
    "number_initial = 461235    # given: a number\n",
    "number_digits = [int(i) for i in str(number_initial)]     # a split number, i.e. digits of our number in a list\n",
    "distance = 0                 # metrics for distance between serial numbers in steps\n",
    "serial_numbers = [number_initial]  # Filling a list with serial numbers in queue manner\n",
    "\n",
    "# This function finds equivalent serial numbers from a given initial number\n",
    "def serialTransform(split_number, distance):\n",
    "    # let's make a backup of our digits, just in case\n",
    "    original_number = split_number\n",
    "    \n",
    "    print(\"Entering function:\\nOriginal number is: {}\".format(original_number))\n",
    "    # we shall begin with the first digit\n",
    "    position = 0\n",
    "    while position < digits_count-1:\n",
    "        print(\"The number is: {}\".format(split_number))\n",
    "        # go ahead and grap two digits (position, and position+1)\n",
    "        left_digit, right_digit = split_number[position], split_number[position+1]\n",
    "        print(\"working with neighbours ({}, {})\".format(left_digit, right_digit))\n",
    "        if position:  # if left digit is not the first\n",
    "            adjacent_left = split_number[position - 1]  # there exists an adjacent digit from the left\n",
    "        else:  # impossible to grab, there is none\n",
    "            adjacent_left = 9  # set it to 9, because 9 will never be between two neighbouring digits\n",
    "        \n",
    "        if position < digits_count-2:       # check if we are not at the right end\n",
    "            adjacent_right = split_number[position + 2] \n",
    "        else:  # impossible to select right adjacent digit to our pair\n",
    "            adjacent_right = 9   # set it to 9 , because 9 so that our pair won't swap\n",
    "        \n",
    "        print(\"Looking at adjacent pair ({}, {})\".format(adjacent_left, adjacent_right))\n",
    "        # swap the digits if conditions are met\n",
    "        if left_digit < adjacent_left < right_digit or right_digit < adjacent_left < left_digit:\n",
    "            split_number[position] = right_digit\n",
    "            split_number[position+1] = left_digit\n",
    "            if not list_to_int(split_number) in serial_numbers:      # check if my number is not repeating\n",
    "                serial_numbers.append(list_to_int(split_number))\n",
    "                print(\"\\tCurrent list: {}\".format(serial_numbers))\n",
    "                distance = distance + 1\n",
    "                print(\"distance: {}\".format(distance))\n",
    "                #print(f\"distance in first branch= {distance}\")\n",
    "                return serialTransform(split_number, distance)\n",
    "            else:     # reverse the changes made, need to move forward\n",
    "                print(\"Resulting number {} is already in list\".format(list_to_int(split_number)))\n",
    "                split_number[position] = left_digit\n",
    "                split_number[position+1] = right_digit\n",
    "        elif left_digit < adjacent_right < right_digit or right_digit < adjacent_right < left_digit:\n",
    "            split_number[position] = right_digit\n",
    "            split_number[position+1] = left_digit\n",
    "            if not list_to_int(split_number) in serial_numbers:      # check for occurrence in my list\n",
    "                serial_numbers.append(list_to_int(split_number))\n",
    "                print(\"\\tCurrent list: {}\".format(serial_numbers))\n",
    "                distance += 1\n",
    "                print(\"distance: {}\".format(distance))\n",
    "                #print(f\"distance is second branch = {distance}\")\n",
    "                return serialTransform(split_number, distance)\n",
    "            else:     # reverse the changes made, need to move forward\n",
    "                print(\"Resulting number {} is already in list\".format(list_to_int(split_number)))\n",
    "                split_number[position] = left_digit\n",
    "                split_number[position+1] = right_digit \n",
    "        print(\"Switching to position in {}\".format(position + 1))\n",
    "        position+=1\n",
    "    print(\"\\t\\tExiting function\\n\\n\")\n",
    "    return False\n",
    "\n",
    "result = serialTransform(number_digits, distance)\n",
    "#while result:\n",
    " #   print(\"Calling function\")\n",
    "  #  new_number = int_to_list(serial_numbers[-1])\n",
    "   # result = serialTransform(new_number, distance)\n"
   ]
  },
  {
   "cell_type": "code",
   "execution_count": 47,
   "metadata": {},
   "outputs": [
    {
     "data": {
      "text/plain": [
       "False"
      ]
     },
     "execution_count": 47,
     "metadata": {},
     "output_type": "execute_result"
    }
   ],
   "source": [
    "result"
   ]
  },
  {
   "cell_type": "code",
   "execution_count": 48,
   "metadata": {},
   "outputs": [
    {
     "data": {
      "text/plain": [
       "[461235, 416235, 412635, 142635, 146235]"
      ]
     },
     "execution_count": 48,
     "metadata": {},
     "output_type": "execute_result"
    }
   ],
   "source": [
    "serial_numbers"
   ]
  },
  {
   "cell_type": "code",
   "execution_count": 49,
   "metadata": {},
   "outputs": [
    {
     "data": {
      "text/plain": [
       "6"
      ]
     },
     "execution_count": 49,
     "metadata": {},
     "output_type": "execute_result"
    }
   ],
   "source": [
    "digits_count"
   ]
  },
  {
   "cell_type": "code",
   "execution_count": null,
   "metadata": {},
   "outputs": [],
   "source": []
  },
  {
   "cell_type": "code",
   "execution_count": null,
   "metadata": {},
   "outputs": [],
   "source": []
  }
 ],
 "metadata": {
  "kernelspec": {
   "display_name": "Python 3",
   "language": "python",
   "name": "python3"
  },
  "language_info": {
   "codemirror_mode": {
    "name": "ipython",
    "version": 3
   },
   "file_extension": ".py",
   "mimetype": "text/x-python",
   "name": "python",
   "nbconvert_exporter": "python",
   "pygments_lexer": "ipython3",
   "version": "3.7.3"
  }
 },
 "nbformat": 4,
 "nbformat_minor": 2
}
